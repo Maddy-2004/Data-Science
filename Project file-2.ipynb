{
 "cells": [
  {
   "cell_type": "code",
   "execution_count": 1,
   "id": "2b6bff50",
   "metadata": {},
   "outputs": [],
   "source": [
    "import pandas as pd\n",
    "import warnings\n",
    "import numpy as np\n",
    "from sklearn import neighbors\n",
    "from sklearn import datasets\n",
    "from sklearn import metrics\n",
    "import seaborn as sns\n",
    "import matplotlib.pyplot as plt\n",
    "from sklearn.metrics import classification_report\n",
    "warnings.filterwarnings('ignore')"
   ]
  },
  {
   "cell_type": "code",
   "execution_count": 2,
   "id": "b37f35a5",
   "metadata": {},
   "outputs": [
    {
     "data": {
      "text/html": [
       "<div>\n",
       "<style scoped>\n",
       "    .dataframe tbody tr th:only-of-type {\n",
       "        vertical-align: middle;\n",
       "    }\n",
       "\n",
       "    .dataframe tbody tr th {\n",
       "        vertical-align: top;\n",
       "    }\n",
       "\n",
       "    .dataframe thead th {\n",
       "        text-align: right;\n",
       "    }\n",
       "</style>\n",
       "<table border=\"1\" class=\"dataframe\">\n",
       "  <thead>\n",
       "    <tr style=\"text-align: right;\">\n",
       "      <th></th>\n",
       "      <th>Target(Class)</th>\n",
       "      <th>GyroX</th>\n",
       "      <th>GyroY</th>\n",
       "      <th>GyroZ</th>\n",
       "      <th>AccX</th>\n",
       "      <th>AccY</th>\n",
       "      <th>AccZ</th>\n",
       "    </tr>\n",
       "  </thead>\n",
       "  <tbody>\n",
       "    <tr>\n",
       "      <th>0</th>\n",
       "      <td>1</td>\n",
       "      <td>-0.923664</td>\n",
       "      <td>3.694656</td>\n",
       "      <td>0.824427</td>\n",
       "      <td>0.162598</td>\n",
       "      <td>-0.086670</td>\n",
       "      <td>-0.969482</td>\n",
       "    </tr>\n",
       "    <tr>\n",
       "      <th>1</th>\n",
       "      <td>1</td>\n",
       "      <td>-0.908397</td>\n",
       "      <td>4.534351</td>\n",
       "      <td>0.832061</td>\n",
       "      <td>0.175781</td>\n",
       "      <td>-0.100586</td>\n",
       "      <td>-1.013184</td>\n",
       "    </tr>\n",
       "    <tr>\n",
       "      <th>2</th>\n",
       "      <td>1</td>\n",
       "      <td>0.786260</td>\n",
       "      <td>3.969466</td>\n",
       "      <td>0.587786</td>\n",
       "      <td>0.322754</td>\n",
       "      <td>-0.140381</td>\n",
       "      <td>-0.911621</td>\n",
       "    </tr>\n",
       "    <tr>\n",
       "      <th>3</th>\n",
       "      <td>1</td>\n",
       "      <td>0.335878</td>\n",
       "      <td>4.564885</td>\n",
       "      <td>-0.251908</td>\n",
       "      <td>0.480225</td>\n",
       "      <td>-0.226807</td>\n",
       "      <td>-0.936768</td>\n",
       "    </tr>\n",
       "    <tr>\n",
       "      <th>4</th>\n",
       "      <td>1</td>\n",
       "      <td>3.351145</td>\n",
       "      <td>2.694656</td>\n",
       "      <td>-0.106870</td>\n",
       "      <td>0.426025</td>\n",
       "      <td>-0.253906</td>\n",
       "      <td>-0.950195</td>\n",
       "    </tr>\n",
       "    <tr>\n",
       "      <th>...</th>\n",
       "      <td>...</td>\n",
       "      <td>...</td>\n",
       "      <td>...</td>\n",
       "      <td>...</td>\n",
       "      <td>...</td>\n",
       "      <td>...</td>\n",
       "      <td>...</td>\n",
       "    </tr>\n",
       "    <tr>\n",
       "      <th>1109</th>\n",
       "      <td>4</td>\n",
       "      <td>-1.961832</td>\n",
       "      <td>2.358779</td>\n",
       "      <td>8.893130</td>\n",
       "      <td>0.472900</td>\n",
       "      <td>-0.431152</td>\n",
       "      <td>-0.873535</td>\n",
       "    </tr>\n",
       "    <tr>\n",
       "      <th>1110</th>\n",
       "      <td>4</td>\n",
       "      <td>-0.435115</td>\n",
       "      <td>5.396947</td>\n",
       "      <td>1.282443</td>\n",
       "      <td>0.459961</td>\n",
       "      <td>-0.227051</td>\n",
       "      <td>-0.967041</td>\n",
       "    </tr>\n",
       "    <tr>\n",
       "      <th>1111</th>\n",
       "      <td>4</td>\n",
       "      <td>-1.061069</td>\n",
       "      <td>4.534351</td>\n",
       "      <td>1.183206</td>\n",
       "      <td>0.419189</td>\n",
       "      <td>-0.192871</td>\n",
       "      <td>-1.002686</td>\n",
       "    </tr>\n",
       "    <tr>\n",
       "      <th>1112</th>\n",
       "      <td>4</td>\n",
       "      <td>-1.015267</td>\n",
       "      <td>5.259542</td>\n",
       "      <td>0.656489</td>\n",
       "      <td>0.308838</td>\n",
       "      <td>-0.090088</td>\n",
       "      <td>-1.023193</td>\n",
       "    </tr>\n",
       "    <tr>\n",
       "      <th>1113</th>\n",
       "      <td>4</td>\n",
       "      <td>-0.877863</td>\n",
       "      <td>4.488550</td>\n",
       "      <td>0.045802</td>\n",
       "      <td>0.098145</td>\n",
       "      <td>-0.015869</td>\n",
       "      <td>-1.001221</td>\n",
       "    </tr>\n",
       "  </tbody>\n",
       "</table>\n",
       "<p>1114 rows × 7 columns</p>\n",
       "</div>"
      ],
      "text/plain": [
       "      Target(Class)     GyroX     GyroY     GyroZ      AccX      AccY  \\\n",
       "0                 1 -0.923664  3.694656  0.824427  0.162598 -0.086670   \n",
       "1                 1 -0.908397  4.534351  0.832061  0.175781 -0.100586   \n",
       "2                 1  0.786260  3.969466  0.587786  0.322754 -0.140381   \n",
       "3                 1  0.335878  4.564885 -0.251908  0.480225 -0.226807   \n",
       "4                 1  3.351145  2.694656 -0.106870  0.426025 -0.253906   \n",
       "...             ...       ...       ...       ...       ...       ...   \n",
       "1109              4 -1.961832  2.358779  8.893130  0.472900 -0.431152   \n",
       "1110              4 -0.435115  5.396947  1.282443  0.459961 -0.227051   \n",
       "1111              4 -1.061069  4.534351  1.183206  0.419189 -0.192871   \n",
       "1112              4 -1.015267  5.259542  0.656489  0.308838 -0.090088   \n",
       "1113              4 -0.877863  4.488550  0.045802  0.098145 -0.015869   \n",
       "\n",
       "          AccZ  \n",
       "0    -0.969482  \n",
       "1    -1.013184  \n",
       "2    -0.911621  \n",
       "3    -0.936768  \n",
       "4    -0.950195  \n",
       "...        ...  \n",
       "1109 -0.873535  \n",
       "1110 -0.967041  \n",
       "1111 -1.002686  \n",
       "1112 -1.023193  \n",
       "1113 -1.001221  \n",
       "\n",
       "[1114 rows x 7 columns]"
      ]
     },
     "execution_count": 2,
     "metadata": {},
     "output_type": "execute_result"
    }
   ],
   "source": [
    "data=pd.read_csv(\"sensor_raw.csv\")\n",
    "data"
   ]
  },
  {
   "cell_type": "code",
   "execution_count": 3,
   "id": "dd8176d1",
   "metadata": {},
   "outputs": [],
   "source": [
    "x=data.to_numpy()"
   ]
  },
  {
   "cell_type": "code",
   "execution_count": 4,
   "id": "d7f4a61a",
   "metadata": {
    "scrolled": true
   },
   "outputs": [
    {
     "name": "stdout",
     "output_type": "stream",
     "text": [
      "[1 1 1 ... 4 4 4]\n",
      "Predicted value:  4\n",
      "Real Target:  4\n",
      "0.9138240574506283\n"
     ]
    }
   ],
   "source": [
    "yd=data['Target(Class)']\n",
    "y=yd.to_numpy()\n",
    "knn=neighbors.KNeighborsClassifier(n_neighbors=5)\n",
    "knn.fit(x,y)\n",
    "yhat=knn.predict(x)\n",
    "print(yhat)\n",
    "print('Predicted value: ',yhat[-1])\n",
    "print('Real Target: ',y[-1])\n",
    "print(knn.score(x,y))"
   ]
  },
  {
   "cell_type": "code",
   "execution_count": 5,
   "id": "8dc98e6e",
   "metadata": {},
   "outputs": [
    {
     "data": {
      "text/plain": [
       "array([1, 2, 3, 4], dtype=int64)"
      ]
     },
     "execution_count": 5,
     "metadata": {},
     "output_type": "execute_result"
    }
   ],
   "source": [
    "np.unique(data['Target(Class)'])"
   ]
  },
  {
   "cell_type": "code",
   "execution_count": 6,
   "id": "a2f52d65",
   "metadata": {},
   "outputs": [
    {
     "name": "stdout",
     "output_type": "stream",
     "text": [
      "TP:  0 , FP:  0\n",
      "FN:  0 , TN:  231\n",
      "[[231  20   8   0]\n",
      " [ 18 256  17   0]\n",
      " [  3  12 318  11]\n",
      " [  0   0   7 213]]\n"
     ]
    }
   ],
   "source": [
    "yhat=knn.predict(x)\n",
    "TP=np.sum(np.logical_and(yhat==-1,y==-1))\n",
    "FP=np.sum(np.logical_and(yhat==-1,y==1))\n",
    "TN=np.sum(np.logical_and(yhat==1,y==1))\n",
    "FN=np.sum(np.logical_and(yhat==1,y==-1))\n",
    "print('TP: ',TP,', FP: ',FP)\n",
    "print('FN: ',FN,', TN: ',TN)\n",
    "print(metrics.confusion_matrix(yhat , y))"
   ]
  },
  {
   "cell_type": "code",
   "execution_count": 7,
   "id": "0cccef6e",
   "metadata": {},
   "outputs": [
    {
     "name": "stdout",
     "output_type": "stream",
     "text": [
      "Classification accuracy: 0.8913824057450629\n",
      "Confusion matrix: \n",
      " [[226  24   6   1]\n",
      " [ 23 247  23   1]\n",
      " [  3  16 313  15]\n",
      " [  0   1   8 207]]\n"
     ]
    }
   ],
   "source": [
    "knn=neighbors.KNeighborsClassifier(n_neighbors=10)\n",
    "knn.fit(x,y)\n",
    "yhat=knn.predict(x)\n",
    "print(\"Classification accuracy:\",metrics.accuracy_score(yhat , y))\n",
    "print(\"Confusion matrix: \\n\",metrics.confusion_matrix(yhat , y))"
   ]
  },
  {
   "cell_type": "code",
   "execution_count": 8,
   "id": "4dec31f9",
   "metadata": {},
   "outputs": [
    {
     "name": "stdout",
     "output_type": "stream",
     "text": [
      "Traing shape: ((335, 7), 335)\n",
      "Testing shape: ((779, 7), 779)\n"
     ]
    }
   ],
   "source": [
    "c=np.random.permutation(y.size)\n",
    "d=0.3\n",
    "e=int(np.ceil(y.shape[0]*d))\n",
    "x_train = x[c[:e].ravel(),:]\n",
    "y_train = y[c[:e].ravel()]\n",
    "x_test=x[c[e:].ravel(),:]\n",
    "y_test=y[c[e:].ravel()]\n",
    "print('Traing shape:',(x_train.shape,y_train.shape[-1]))\n",
    "print('Testing shape:',(x_test.shape,y_test.shape[-1]))"
   ]
  },
  {
   "cell_type": "code",
   "execution_count": 9,
   "id": "c6fd3cdd",
   "metadata": {},
   "outputs": [
    {
     "name": "stdout",
     "output_type": "stream",
     "text": [
      "Training Stats:\n",
      "\n",
      "Classification Accuracy= 0.8955223880597015 \n",
      "\n",
      "Confusion Matrix:\n",
      " [69  6  2  0] \n",
      " [ 6 81  4  0]\n"
     ]
    }
   ],
   "source": [
    "knn=neighbors.KNeighborsClassifier(n_neighbors=5)\n",
    "knn.fit(x_train,y_train)\n",
    "yhat=knn.predict(x_train)\n",
    "print('Training Stats:\\n')\n",
    "print('Classification Accuracy=',metrics.accuracy_score(yhat,y_train),'\\n')\n",
    "print('Confusion Matrix:\\n',metrics.confusion_matrix(y_train,yhat)[0],'\\n',metrics.confusion_matrix(y_train,yhat)[1])"
   ]
  },
  {
   "cell_type": "code",
   "execution_count": 10,
   "id": "56e24cc3",
   "metadata": {},
   "outputs": [
    {
     "name": "stdout",
     "output_type": "stream",
     "text": [
      "Testing Stats:\n",
      "\n",
      "Classification Accuracy= 0.9075738125802311 \n",
      "\n",
      "Confusion Matrix:\n",
      " [159  16   0   0] \n",
      " [ 18 172   7   0]\n"
     ]
    }
   ],
   "source": [
    "knn=neighbors.KNeighborsClassifier(n_neighbors=5)\n",
    "knn.fit(x_test,y_test)\n",
    "yhat=knn.predict(x_test)\n",
    "print('Testing Stats:\\n')\n",
    "print('Classification Accuracy=',metrics.accuracy_score(yhat,y_test),'\\n')\n",
    "print('Confusion Matrix:\\n',metrics.confusion_matrix(y_test,yhat)[0],'\\n',metrics.confusion_matrix(y_test,yhat)[1])"
   ]
  },
  {
   "cell_type": "code",
   "execution_count": 11,
   "id": "0d7adb28",
   "metadata": {},
   "outputs": [
    {
     "name": "stdout",
     "output_type": "stream",
     "text": [
      "Mean expected error: 0.08537313432835822\n"
     ]
    }
   ],
   "source": [
    "from sklearn.model_selection import train_test_split\n",
    "h=0.3\n",
    "g=np.zeros ((10 ,))\n",
    "for i in range (10):\n",
    "    x_train, x_test,y_train,y_test=train_test_split(x,y,test_size=h,random_state=1)\n",
    "    knn = neighbors.KNeighborsClassifier(n_neighbors=5)\n",
    "    knn.fit(x_train , y_train)\n",
    "    yhat = knn.predict(x_test)\n",
    "g[i] = metrics.accuracy_score(yhat , y_test)\n",
    "g.shape = (1, 10)\n",
    "print(\"Mean expected error:\",str(np.mean(g[0])))"
   ]
  },
  {
   "cell_type": "code",
   "execution_count": 12,
   "id": "058cc27d",
   "metadata": {},
   "outputs": [
    {
     "name": "stdout",
     "output_type": "stream",
     "text": [
      "              precision    recall  f1-score   support\n",
      "\n",
      "           1       0.84      0.89      0.87        83\n",
      "           2       0.79      0.75      0.77        79\n",
      "           3       0.85      0.88      0.86       109\n",
      "           4       0.97      0.89      0.93        64\n",
      "\n",
      "    accuracy                           0.85       335\n",
      "   macro avg       0.86      0.85      0.86       335\n",
      "weighted avg       0.85      0.85      0.85       335\n",
      "\n"
     ]
    }
   ],
   "source": [
    "print(classification_report(y_test,yhat))"
   ]
  }
 ],
 "metadata": {
  "kernelspec": {
   "display_name": "Python 3 (ipykernel)",
   "language": "python",
   "name": "python3"
  },
  "language_info": {
   "codemirror_mode": {
    "name": "ipython",
    "version": 3
   },
   "file_extension": ".py",
   "mimetype": "text/x-python",
   "name": "python",
   "nbconvert_exporter": "python",
   "pygments_lexer": "ipython3",
   "version": "3.11.3"
  }
 },
 "nbformat": 4,
 "nbformat_minor": 5
}
